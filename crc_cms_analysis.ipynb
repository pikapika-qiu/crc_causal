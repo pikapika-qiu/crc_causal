{
 "cells": [
  {
   "cell_type": "code",
   "execution_count": null,
   "metadata": {},
   "outputs": [],
   "source": [
    "import numpy as np\n",
    "import matplotlib.pyplot as plt\n",
    "import pandas as pd\n",
    "import scanpy as sc\n",
    "import scipy.io as sio\n",
    "import anndata as ad\n",
    "import seaborn as sns\n",
    "import os as os\n",
    "import sys as sys\n",
    "sys.path.append('/home/qiuaodon/Desktop/PanCancer_scRNA_analysis/utils/')\n",
    "from scRNA_utils import *\n",
    "import operator as op\n",
    "import matplotlib.colors as mcolors"
   ]
  },
  {
   "cell_type": "code",
   "execution_count": null,
   "metadata": {},
   "outputs": [],
   "source": [
    "# load in cms tsv data\n",
    "cms_data = pd.read_csv('/home/qiuaodon/Desktop/project_data_new/CRC_causal_discovery_data/CRC_CMS_pred_CMScaller.tsv', sep='\\t')\n",
    "cms_data "
   ]
  },
  {
   "cell_type": "code",
   "execution_count": null,
   "metadata": {},
   "outputs": [],
   "source": [
    "# count how many NaN in prediction column\n",
    "cms_data['prediction'].isna().sum()"
   ]
  },
  {
   "cell_type": "code",
   "execution_count": null,
   "metadata": {},
   "outputs": [],
   "source": [
    "# remove the NaN rows\n",
    "cms_data = cms_data.dropna(subset=['prediction'])\n",
    "cms_data"
   ]
  },
  {
   "cell_type": "code",
   "execution_count": null,
   "metadata": {},
   "outputs": [],
   "source": [
    "data_kernel = pd.read_csv('/home/qiuaodon/Desktop/project_data_new/patient_clusters_0.2_quantile.csv', sep='\\t')"
   ]
  },
  {
   "cell_type": "code",
   "execution_count": null,
   "metadata": {},
   "outputs": [],
   "source": [
    "# divide data in to 2 columns\n",
    "data_kernel['patient'] = data_kernel['Patient,\"Cluster\"'].str.split(',').str[0]\n",
    "data_kernel['cluster'] = data_kernel['Patient,\"Cluster\"'].str.split(',').str[1]\n",
    "# remove the first column\n",
    "data_kernel = data_kernel.drop(columns=['Patient,\"Cluster\"'])\n",
    "data_kernel"
   ]
  },
  {
   "cell_type": "code",
   "execution_count": null,
   "metadata": {},
   "outputs": [],
   "source": [
    "# remove the _bootstrap from the patient column\n",
    "data_kernel['patient'] = data_kernel['patient'].str.replace('_bootstrap', '')\n",
    "data_kernel"
   ]
  },
  {
   "cell_type": "code",
   "execution_count": null,
   "metadata": {},
   "outputs": [],
   "source": [
    "# only keep the rows also in cms_data\n",
    "data_kernel = data_kernel[data_kernel['patient'].isin(cms_data['Sample'])]\n",
    "data_kernel"
   ]
  },
  {
   "cell_type": "code",
   "execution_count": null,
   "metadata": {},
   "outputs": [],
   "source": [
    "# get the prediction column from cms_data to data_kernel matching by patient\n",
    "data_kernel['prediction'] = data_kernel['patient'].map(cms_data.set_index('Sample')['prediction'])\n",
    "data_kernel"
   ]
  },
  {
   "cell_type": "code",
   "execution_count": null,
   "metadata": {},
   "outputs": [],
   "source": [
    "# use histplot to plot the distribution of the prediction in each cluster\n",
    "sns.histplot(data=data_kernel, x='cluster', hue='prediction', multiple='stack')\n",
    "plt.show()\n",
    "\n",
    "# use histplot to plot the distribution of the prediction in each cluster\n",
    "sns.histplot(data=data_kernel, x='prediction', hue='cluster', multiple='stack')\n",
    "plt.show()"
   ]
  }
 ],
 "metadata": {
  "kernelspec": {
   "display_name": "base",
   "language": "python",
   "name": "python3"
  },
  "language_info": {
   "codemirror_mode": {
    "name": "ipython",
    "version": 3
   },
   "file_extension": ".py",
   "mimetype": "text/x-python",
   "name": "python",
   "nbconvert_exporter": "python",
   "pygments_lexer": "ipython3",
   "version": "3.11.5"
  }
 },
 "nbformat": 4,
 "nbformat_minor": 2
}
