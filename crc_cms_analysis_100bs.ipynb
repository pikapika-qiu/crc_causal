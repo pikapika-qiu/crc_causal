{
 "cells": [
  {
   "cell_type": "code",
   "execution_count": null,
   "metadata": {},
   "outputs": [],
   "source": [
    "import numpy as np\n",
    "import matplotlib.pyplot as plt\n",
    "import pandas as pd\n",
    "import scanpy as sc\n",
    "import scipy.io as sio\n",
    "import anndata as ad\n",
    "import seaborn as sns\n",
    "import os as os\n",
    "import sys as sys\n",
    "sys.path.append('/home/qiuaodon/Desktop/PanCancer_scRNA_analysis/utils/')\n",
    "from scRNA_utils import *\n",
    "import operator as op\n",
    "import matplotlib.colors as mcolors"
   ]
  },
  {
   "cell_type": "code",
   "execution_count": null,
   "metadata": {},
   "outputs": [],
   "source": [
    "# load in cms tsv data\n",
    "cms_data = pd.read_csv('/home/qiuaodon/Desktop/project_data_new/CRC_causal_discovery_data/CRC_CMS_pred_CMScaller.tsv', sep='\\t')\n",
    "cms_data "
   ]
  },
  {
   "cell_type": "code",
   "execution_count": null,
   "metadata": {},
   "outputs": [],
   "source": [
    "# count how many NaN in prediction column\n",
    "cms_data['prediction'].isna().sum()"
   ]
  },
  {
   "cell_type": "code",
   "execution_count": null,
   "metadata": {},
   "outputs": [],
   "source": [
    "# remove the NaN rows\n",
    "cms_data = cms_data.dropna(subset=['prediction'])\n",
    "cms_data"
   ]
  },
  {
   "cell_type": "code",
   "execution_count": null,
   "metadata": {},
   "outputs": [],
   "source": [
    "data_kernel = pd.read_csv('/home/qiuaodon/Desktop/project_data_new/crc_100_bootstrap/outputs_PAGs_BS/heatmaps/quantile_patient_clusters_0.2.csv', sep='\\t')"
   ]
  },
  {
   "cell_type": "code",
   "execution_count": null,
   "metadata": {},
   "outputs": [],
   "source": [
    "# divide data in to 2 columns\n",
    "data_kernel['patient'] = data_kernel['Patient,\"Cluster\"'].str.split(',').str[0]\n",
    "data_kernel['cluster'] = data_kernel['Patient,\"Cluster\"'].str.split(',').str[1]\n",
    "# remove the first column\n",
    "data_kernel = data_kernel.drop(columns=['Patient,\"Cluster\"'])\n",
    "data_kernel"
   ]
  },
  {
   "cell_type": "code",
   "execution_count": null,
   "metadata": {},
   "outputs": [],
   "source": [
    "# remove the _bootstrap from the patient column\n",
    "data_kernel['patient'] = data_kernel['patient'].str.replace('_bootstrap', '')\n",
    "data_kernel"
   ]
  },
  {
   "cell_type": "code",
   "execution_count": null,
   "metadata": {},
   "outputs": [],
   "source": [
    "# # only keep the rows also in cms_data\n",
    "# data_kernel = data_kernel[data_kernel['patient'].isin(cms_data['Sample'])]\n",
    "# data_kernel\n",
    "\n",
    "# "
   ]
  },
  {
   "cell_type": "code",
   "execution_count": null,
   "metadata": {},
   "outputs": [],
   "source": [
    "# get the prediction column from cms_data to data_kernel matching by patient\n",
    "data_kernel['prediction'] = data_kernel['patient'].map(cms_data.set_index('Sample')['prediction'])\n",
    "data_kernel"
   ]
  },
  {
   "cell_type": "code",
   "execution_count": null,
   "metadata": {},
   "outputs": [],
   "source": [
    "# if the prediction is NaN, make it 'NA'\n",
    "data_kernel['prediction'] = data_kernel['prediction'].fillna('NA')\n",
    "data_kernel"
   ]
  },
  {
   "cell_type": "code",
   "execution_count": null,
   "metadata": {},
   "outputs": [],
   "source": [
    "\n",
    "# Plot 1: Distribution of prediction in each cluster\n",
    "sns.histplot(data=data_kernel, x='cluster', hue='prediction', multiple='stack')\n",
    "# put NA to the last and gray color\n",
    "plt.xlabel(\"Cluster\", fontsize=12)  # Adjust x-axis label font size\n",
    "plt.ylabel(\"Count\", fontsize=12)     # Adjust y-axis label font size\n",
    "plt.title(\"Distribution of Prediction in Each Cluster\", fontsize=12)  # Adjust title font size\n",
    "plt.show()\n",
    "\n",
    "# Plot 2: Distribution of prediction in each cluster\n",
    "sns.histplot(data=data_kernel, x='prediction', hue='cluster', multiple='stack')\n",
    "plt.xlabel(\"Prediction\", fontsize=12)  # Adjust x-axis label font size\n",
    "plt.ylabel(\"Count\", fontsize=12)       # Adjust y-axis label font size\n",
    "plt.title(\"Distribution of Cluster in Each Prediction\", fontsize=12)  # Adjust title font size\n",
    "plt.show()\n"
   ]
  },
  {
   "cell_type": "code",
   "execution_count": null,
   "metadata": {},
   "outputs": [],
   "source": [
    "import matplotlib.pyplot as plt\n",
    "import seaborn as sns\n",
    "import pandas as pd\n",
    "\n",
    "# Ensure \"NA\" is the last category only in the 'prediction' column for the first plot\n",
    "data_kernel['prediction'] = pd.Categorical(data_kernel['prediction'], \n",
    "                                           categories=[cat for cat in data_kernel['prediction'].unique() if cat != 'NA'] + ['NA'],\n",
    "                                           ordered=True)\n",
    "\n",
    "# Define a color palette that assigns specific colors, with gray for \"NA\"\n",
    "unique_predictions = data_kernel['prediction'].cat.categories\n",
    "prediction_palette = sns.color_palette(\"Set2\", len(unique_predictions) - 1) + [(0.5, 0.5, 0.5)]  # Gray for NA\n",
    "\n",
    "# Plot 1: Distribution of prediction in each cluster with \"NA\" as the last category in gray\n",
    "sns.histplot(data=data_kernel, x='cluster', hue='prediction', multiple='stack', palette=prediction_palette)\n",
    "plt.xlabel(\"Cluster\", fontsize=12)  # Adjust x-axis label font size\n",
    "plt.ylabel(\"Count\", fontsize=12)     # Adjust y-axis label font size\n",
    "plt.title(\"Distribution of Prediction in Each Cluster\", fontsize=12)  # Adjust title font size\n",
    "plt.show()\n",
    "\n",
    "# Filter out rows where 'cluster' is \"NA\" for the second plot\n",
    "data_kernel_no_na = data_kernel[data_kernel['prediction'] != 'NA']\n",
    "\n",
    "# Plot 2: Distribution of cluster in each prediction, excluding \"NA\"\n",
    "sns.histplot(data=data_kernel_no_na, x='prediction', hue='cluster', multiple='stack')\n",
    "plt.xlabel(\"Prediction\", fontsize=12)  # Adjust x-axis label font size\n",
    "plt.ylabel(\"Count\", fontsize=12)       # Adjust y-axis label font size\n",
    "plt.title(\"Distribution of Cluster in Each Prediction\", fontsize=12)  # Adjust title font size\n",
    "plt.show()\n"
   ]
  }
 ],
 "metadata": {
  "kernelspec": {
   "display_name": "base",
   "language": "python",
   "name": "python3"
  },
  "language_info": {
   "codemirror_mode": {
    "name": "ipython",
    "version": 3
   },
   "file_extension": ".py",
   "mimetype": "text/x-python",
   "name": "python",
   "nbconvert_exporter": "python",
   "pygments_lexer": "ipython3",
   "version": "3.11.5"
  }
 },
 "nbformat": 4,
 "nbformat_minor": 2
}
